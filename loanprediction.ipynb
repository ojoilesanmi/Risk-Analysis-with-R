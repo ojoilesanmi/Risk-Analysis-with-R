{
  "nbformat": 4,
  "nbformat_minor": 0,
  "metadata": {
    "colab": {
      "name": "loanprediction.ipynb",
      "provenance": [],
      "collapsed_sections": [],
      "authorship_tag": "ABX9TyP/KqLfK01ZYLHflZf9Xk7b",
      "include_colab_link": true
    },
    "kernelspec": {
      "name": "ir",
      "display_name": "R"
    }
  },
  "cells": [
    {
      "cell_type": "markdown",
      "metadata": {
        "id": "view-in-github",
        "colab_type": "text"
      },
      "source": [
        "<a href=\"https://colab.research.google.com/github/ojoilesanmi/Risk-Analysis-with-R/blob/New_data_test/loanprediction.ipynb\" target=\"_parent\"><img src=\"https://colab.research.google.com/assets/colab-badge.svg\" alt=\"Open In Colab\"/></a>"
      ]
    },
    {
      "cell_type": "markdown",
      "metadata": {
        "id": "-9ciH3MExJYD",
        "colab_type": "text"
      },
      "source": [
        "Loan Prediction Project"
      ]
    },
    {
      "cell_type": "code",
      "metadata": {
        "id": "QAx5QfBogmET",
        "colab_type": "code",
        "colab": {
          "base_uri": "https://localhost:8080/",
          "height": 833
        },
        "outputId": "5ff42fc1-8bd3-4431-f073-b60970e10ae7"
      },
      "source": [
        "install.packages('randomForest')\n",
        "install.packages('rpart')\n",
        "install.packages('cluster')\n",
        "install.packages('recipes')\n",
        "install.packages('gridExtra')\n",
        "install.packages('caret', dependencies = TRUE)\n",
        "install.packages('xgboost')\n",
        "install.packages('recipes')\n",
        "install.packages('rsample')\n",
        "install.packages('e1071')\n",
        "install.packages('kernlab')\n",
        "install.packages('DMwR')"
      ],
      "execution_count": 6,
      "outputs": [
        {
          "output_type": "stream",
          "text": [
            "Installing package into ‘/usr/local/lib/R/site-library’\n",
            "(as ‘lib’ is unspecified)\n",
            "\n",
            "Installing package into ‘/usr/local/lib/R/site-library’\n",
            "(as ‘lib’ is unspecified)\n",
            "\n",
            "Installing package into ‘/usr/local/lib/R/site-library’\n",
            "(as ‘lib’ is unspecified)\n",
            "\n",
            "Installing package into ‘/usr/local/lib/R/site-library’\n",
            "(as ‘lib’ is unspecified)\n",
            "\n",
            "also installing the dependencies ‘numDeriv’, ‘SQUAREM’, ‘lava’, ‘prodlim’, ‘gower’, ‘ipred’, ‘timeDate’\n",
            "\n",
            "\n",
            "Installing package into ‘/usr/local/lib/R/site-library’\n",
            "(as ‘lib’ is unspecified)\n",
            "\n",
            "Installing package into ‘/usr/local/lib/R/site-library’\n",
            "(as ‘lib’ is unspecified)\n",
            "\n",
            "also installing the dependencies ‘iterators’, ‘data.table’, ‘foreach’, ‘ModelMetrics’, ‘pROC’\n",
            "\n",
            "\n",
            "Installing package into ‘/usr/local/lib/R/site-library’\n",
            "(as ‘lib’ is unspecified)\n",
            "\n",
            "Installing package into ‘/usr/local/lib/R/site-library’\n",
            "(as ‘lib’ is unspecified)\n",
            "\n",
            "Installing package into ‘/usr/local/lib/R/site-library’\n",
            "(as ‘lib’ is unspecified)\n",
            "\n",
            "also installing the dependencies ‘listenv’, ‘future’, ‘globals’, ‘furrr’\n",
            "\n",
            "\n",
            "Installing package into ‘/usr/local/lib/R/site-library’\n",
            "(as ‘lib’ is unspecified)\n",
            "\n",
            "Installing package into ‘/usr/local/lib/R/site-library’\n",
            "(as ‘lib’ is unspecified)\n",
            "\n",
            "Installing package into ‘/usr/local/lib/R/site-library’\n",
            "(as ‘lib’ is unspecified)\n",
            "\n",
            "also installing the dependencies ‘bitops’, ‘gtools’, ‘gdata’, ‘caTools’, ‘TTR’, ‘gplots’, ‘xts’, ‘quantmod’, ‘zoo’, ‘abind’, ‘ROCR’\n",
            "\n",
            "\n"
          ],
          "name": "stderr"
        }
      ]
    },
    {
      "cell_type": "code",
      "metadata": {
        "id": "8XGhzDx5wjXX",
        "colab_type": "code",
        "colab": {
          "base_uri": "https://localhost:8080/",
          "height": 1000
        },
        "outputId": "37afbb1d-9f5f-46ac-dd61-b2db056231dd"
      },
      "source": [
        "#Libraries\n",
        "library('tidyverse')\n",
        "library('DMwR')\n",
        "library('randomForest')\n",
        "library('rpart')\n",
        "library('cluster')\n",
        "library('recipes')\n",
        "library('gridExtra')\n",
        "library('caret')\n",
        "library('xgboost')\n",
        "library('recipes')\n",
        "library('rsample')\n",
        "library('e1071')\n",
        "library('kernlab')"
      ],
      "execution_count": 3,
      "outputs": [
        {
          "output_type": "stream",
          "text": [
            "── \u001b[1mAttaching packages\u001b[22m ─────────────────────────────────────── tidyverse 1.3.0 ──\n",
            "\n",
            "\u001b[32m✔\u001b[39m \u001b[34mggplot2\u001b[39m 3.3.1     \u001b[32m✔\u001b[39m \u001b[34mpurrr  \u001b[39m 0.3.4\n",
            "\u001b[32m✔\u001b[39m \u001b[34mtibble \u001b[39m 3.0.1     \u001b[32m✔\u001b[39m \u001b[34mdplyr  \u001b[39m 1.0.0\n",
            "\u001b[32m✔\u001b[39m \u001b[34mtidyr  \u001b[39m 1.1.0     \u001b[32m✔\u001b[39m \u001b[34mstringr\u001b[39m 1.4.0\n",
            "\u001b[32m✔\u001b[39m \u001b[34mreadr  \u001b[39m 1.3.1     \u001b[32m✔\u001b[39m \u001b[34mforcats\u001b[39m 0.5.0\n",
            "\n",
            "── \u001b[1mConflicts\u001b[22m ────────────────────────────────────────── tidyverse_conflicts() ──\n",
            "\u001b[31m✖\u001b[39m \u001b[34mdplyr\u001b[39m::\u001b[32mfilter()\u001b[39m masks \u001b[34mstats\u001b[39m::filter()\n",
            "\u001b[31m✖\u001b[39m \u001b[34mdplyr\u001b[39m::\u001b[32mlag()\u001b[39m    masks \u001b[34mstats\u001b[39m::lag()\n",
            "\n",
            "Loading required package: lattice\n",
            "\n",
            "Loading required package: grid\n",
            "\n",
            "Registered S3 method overwritten by 'quantmod':\n",
            "  method            from\n",
            "  as.zoo.data.frame zoo \n",
            "\n",
            "randomForest 4.6-14\n",
            "\n",
            "Type rfNews() to see new features/changes/bug fixes.\n",
            "\n",
            "\n",
            "Attaching package: ‘randomForest’\n",
            "\n",
            "\n",
            "The following object is masked from ‘package:dplyr’:\n",
            "\n",
            "    combine\n",
            "\n",
            "\n",
            "The following object is masked from ‘package:ggplot2’:\n",
            "\n",
            "    margin\n",
            "\n",
            "\n",
            "\n",
            "Attaching package: ‘recipes’\n",
            "\n",
            "\n",
            "The following object is masked from ‘package:stringr’:\n",
            "\n",
            "    fixed\n",
            "\n",
            "\n",
            "The following object is masked from ‘package:stats’:\n",
            "\n",
            "    step\n",
            "\n",
            "\n",
            "\n",
            "Attaching package: ‘gridExtra’\n",
            "\n",
            "\n",
            "The following object is masked from ‘package:randomForest’:\n",
            "\n",
            "    combine\n",
            "\n",
            "\n",
            "The following object is masked from ‘package:dplyr’:\n",
            "\n",
            "    combine\n",
            "\n",
            "\n",
            "\n",
            "Attaching package: ‘caret’\n",
            "\n",
            "\n",
            "The following object is masked from ‘package:purrr’:\n",
            "\n",
            "    lift\n",
            "\n",
            "\n",
            "\n",
            "Attaching package: ‘xgboost’\n",
            "\n",
            "\n",
            "The following object is masked from ‘package:dplyr’:\n",
            "\n",
            "    slice\n",
            "\n",
            "\n",
            "\n",
            "Attaching package: ‘kernlab’\n",
            "\n",
            "\n",
            "The following object is masked from ‘package:purrr’:\n",
            "\n",
            "    cross\n",
            "\n",
            "\n",
            "The following object is masked from ‘package:ggplot2’:\n",
            "\n",
            "    alpha\n",
            "\n",
            "\n"
          ],
          "name": "stderr"
        }
      ]
    },
    {
      "cell_type": "code",
      "metadata": {
        "id": "g1371A4me6l3",
        "colab_type": "code",
        "colab": {}
      },
      "source": [
        "#load data\n",
        "data <- read.csv('/loan.csv')"
      ],
      "execution_count": 5,
      "outputs": []
    },
    {
      "cell_type": "code",
      "metadata": {
        "id": "92phQ17v0Lgs",
        "colab_type": "code",
        "colab": {}
      },
      "source": [
        "data$id <- NULL\n",
        "data$year <- NULL\n",
        "data$issue_d <- NULL\n",
        "data$final_d <- NULL"
      ],
      "execution_count": 6,
      "outputs": []
    },
    {
      "cell_type": "code",
      "metadata": {
        "id": "l7BMbEo3w-Qb",
        "colab_type": "code",
        "colab": {}
      },
      "source": [
        "data$annual_inc <- data$annual_inc * 410\n",
        "data$loan_amount <- data$loan_amount * 410\n",
        "data$dti <- data$dti * 410\n",
        "data$total_pymnt <- data$total_pymnt * 410\n",
        "data$total_rec_prncp <-  data$total_rec_prncp * 410\n",
        "data$recoveries <-data$recoveries * 410\n",
        "data$installment <- data$installment * 410"
      ],
      "execution_count": 7,
      "outputs": []
    },
    {
      "cell_type": "code",
      "metadata": {
        "id": "3HxtBSLMzSMl",
        "colab_type": "code",
        "colab": {}
      },
      "source": [
        "data$annual_inc <- floor((data$annual_inc) / 12)\n"
      ],
      "execution_count": 8,
      "outputs": []
    },
    {
      "cell_type": "code",
      "metadata": {
        "id": "XEk3UzUJzVV4",
        "colab_type": "code",
        "colab": {}
      },
      "source": [
        "data <- data %>% rename(\n",
        "  monthly_inc = annual_inc\n",
        ")"
      ],
      "execution_count": 9,
      "outputs": []
    },
    {
      "cell_type": "code",
      "metadata": {
        "id": "w59w58F2zY-E",
        "colab_type": "code",
        "colab": {}
      },
      "source": [
        "data <- data %>% \n",
        "  select(-c(2,4,8,10,12,14,16,19,26))"
      ],
      "execution_count": 10,
      "outputs": []
    },
    {
      "cell_type": "code",
      "metadata": {
        "id": "cKGZGY3cshUm",
        "colab_type": "code",
        "colab": {}
      },
      "source": [
        "data\n"
      ],
      "execution_count": null,
      "outputs": []
    },
    {
      "cell_type": "code",
      "metadata": {
        "id": "QbMyUsSQzc68",
        "colab_type": "code",
        "colab": {
          "base_uri": "https://localhost:8080/",
          "height": 255
        },
        "outputId": "86155877-395f-4cec-8674-8cf8172f3529"
      },
      "source": [
        "new_data <- data %>% \n",
        "  mutate_at(c(1,3,5,11,13,14,15,16,17), funs(log(1 + .))) %>%\n",
        " mutate_at(-c(10), funs(c(scale(.))))"
      ],
      "execution_count": 11,
      "outputs": [
        {
          "output_type": "stream",
          "text": [
            "Warning message:\n",
            "“`funs()` is deprecated as of dplyr 0.8.0.\n",
            "Please use a list of either functions or lambdas: \n",
            "\n",
            "  # Simple named list: \n",
            "  list(mean = mean, median = median)\n",
            "\n",
            "  # Auto named with `tibble::lst()`: \n",
            "  tibble::lst(mean, median)\n",
            "\n",
            "  # Using lambdas\n",
            "  list(~ mean(., trim = .2), ~ median(., na.rm = TRUE))\n",
            "\u001b[90mThis warning is displayed once every 8 hours.\u001b[39m\n",
            "\u001b[90mCall `lifecycle::last_warnings()` to see where this warning was generated.\u001b[39m”\n"
          ],
          "name": "stderr"
        }
      ]
    },
    {
      "cell_type": "code",
      "metadata": {
        "id": "R-qRwB_bXLi_",
        "colab_type": "code",
        "colab": {}
      },
      "source": [
        "new_data$home_ownership_cat <- as.factor(new_data$home_ownership_cat)\n",
        "new_data$income_cat <- as.factor(new_data$income_cat)\n",
        "new_data$term_cat <- as.factor(new_data$term_cat)\n",
        "new_data$application_type_cat <- as.factor(new_data$application_type_cat)\n",
        "new_data$purpose_cat <- as.factor(new_data$purpose_cat)\n",
        "new_data$interest_payment_cat <- as.factor(new_data$interest_payment_cat)\n",
        "new_data$loan_condition_cat <- as.factor(new_data$loan_condition_cat)\n",
        "new_data$grade_cat <- as.factor(new_data$grade_cat)"
      ],
      "execution_count": 12,
      "outputs": []
    },
    {
      "cell_type": "code",
      "metadata": {
        "id": "OHgkzEoLXWT5",
        "colab_type": "code",
        "colab": {
          "base_uri": "https://localhost:8080/",
          "height": 51
        },
        "outputId": "b71b09f2-d32a-4929-e743-bb1182e0fa63"
      },
      "source": [
        "set.seed(100)\n",
        "\n",
        "train_test_split <- initial_split(new_data, prop = 0.8)\n",
        "\n",
        "train_test_split"
      ],
      "execution_count": 13,
      "outputs": [
        {
          "output_type": "display_data",
          "data": {
            "text/plain": [
              "<Analysis/Assess/Total>\n",
              "<709904/177475/887379>"
            ]
          },
          "metadata": {
            "tags": []
          }
        }
      ]
    },
    {
      "cell_type": "code",
      "metadata": {
        "id": "MsDgdBqkXbgg",
        "colab_type": "code",
        "colab": {}
      },
      "source": [
        "train_set <- training(train_test_split)\n",
        "test_set <- testing(train_test_split)"
      ],
      "execution_count": 14,
      "outputs": []
    },
    {
      "cell_type": "code",
      "metadata": {
        "id": "NKucmdXmXe9t",
        "colab_type": "code",
        "colab": {}
      },
      "source": [
        "#cross validation. Divide data into 10 folds and repeat it 3 times.\n",
        "control <- trainControl(method=\"repeatedcv\", number=10, repeats=3)\n"
      ],
      "execution_count": 15,
      "outputs": []
    },
    {
      "cell_type": "code",
      "metadata": {
        "id": "WY2MnVYcvC6H",
        "colab_type": "code",
        "colab": {
          "base_uri": "https://localhost:8080/",
          "height": 1000
        },
        "outputId": "9202f74e-2fdd-4fa1-d360-189630ac6ad7"
      },
      "source": [
        "logistic_model<- train(form=loan_condition_cat~., data=train_set,method=\"glm\", family=\"binomial\", preProcess = c(\"center\", \"scale\"),trControl=control, tuneLength = 5)"
      ],
      "execution_count": 20,
      "outputs": [
        {
          "output_type": "stream",
          "text": [
            "Warning message:\n",
            "“glm.fit: fitted probabilities numerically 0 or 1 occurred”\n",
            "Warning message:\n",
            "“glm.fit: fitted probabilities numerically 0 or 1 occurred”\n",
            "Warning message:\n",
            "“glm.fit: fitted probabilities numerically 0 or 1 occurred”\n",
            "Warning message:\n",
            "“glm.fit: fitted probabilities numerically 0 or 1 occurred”\n",
            "Warning message:\n",
            "“glm.fit: fitted probabilities numerically 0 or 1 occurred”\n",
            "Warning message:\n",
            "“glm.fit: fitted probabilities numerically 0 or 1 occurred”\n",
            "Warning message:\n",
            "“glm.fit: fitted probabilities numerically 0 or 1 occurred”\n",
            "Warning message:\n",
            "“glm.fit: fitted probabilities numerically 0 or 1 occurred”\n",
            "Warning message:\n",
            "“glm.fit: fitted probabilities numerically 0 or 1 occurred”\n",
            "Warning message:\n",
            "“glm.fit: fitted probabilities numerically 0 or 1 occurred”\n",
            "Warning message:\n",
            "“glm.fit: fitted probabilities numerically 0 or 1 occurred”\n",
            "Warning message:\n",
            "“glm.fit: fitted probabilities numerically 0 or 1 occurred”\n",
            "Warning message:\n",
            "“glm.fit: fitted probabilities numerically 0 or 1 occurred”\n",
            "Warning message:\n",
            "“glm.fit: fitted probabilities numerically 0 or 1 occurred”\n",
            "Warning message:\n",
            "“glm.fit: fitted probabilities numerically 0 or 1 occurred”\n",
            "Warning message:\n",
            "“glm.fit: fitted probabilities numerically 0 or 1 occurred”\n",
            "Warning message:\n",
            "“glm.fit: fitted probabilities numerically 0 or 1 occurred”\n",
            "Warning message:\n",
            "“glm.fit: fitted probabilities numerically 0 or 1 occurred”\n",
            "Warning message:\n",
            "“glm.fit: fitted probabilities numerically 0 or 1 occurred”\n",
            "Warning message:\n",
            "“glm.fit: fitted probabilities numerically 0 or 1 occurred”\n",
            "Warning message:\n",
            "“glm.fit: fitted probabilities numerically 0 or 1 occurred”\n",
            "Warning message:\n",
            "“glm.fit: fitted probabilities numerically 0 or 1 occurred”\n",
            "Warning message:\n",
            "“glm.fit: fitted probabilities numerically 0 or 1 occurred”\n",
            "Warning message:\n",
            "“glm.fit: fitted probabilities numerically 0 or 1 occurred”\n",
            "Warning message:\n",
            "“glm.fit: fitted probabilities numerically 0 or 1 occurred”\n",
            "Warning message:\n",
            "“glm.fit: fitted probabilities numerically 0 or 1 occurred”\n",
            "Warning message:\n",
            "“glm.fit: fitted probabilities numerically 0 or 1 occurred”\n",
            "Warning message:\n",
            "“glm.fit: fitted probabilities numerically 0 or 1 occurred”\n",
            "Warning message:\n",
            "“glm.fit: fitted probabilities numerically 0 or 1 occurred”\n",
            "Warning message:\n",
            "“glm.fit: fitted probabilities numerically 0 or 1 occurred”\n",
            "Warning message:\n",
            "“glm.fit: fitted probabilities numerically 0 or 1 occurred”\n"
          ],
          "name": "stderr"
        }
      ]
    },
    {
      "cell_type": "code",
      "metadata": {
        "id": "0qZZIx2rYFyw",
        "colab_type": "code",
        "colab": {
          "base_uri": "https://localhost:8080/",
          "height": 437
        },
        "outputId": "80bf1b04-347f-4b0a-8744-7398d2633276"
      },
      "source": [
        "#helps to select important features\n",
        "importance <- varImp(logistic_model, scale=FALSE)\n",
        "plot(importance)"
      ],
      "execution_count": 21,
      "outputs": [
        {
          "output_type": "display_data",
          "data": {
            "image/png": "[encoded data removed]",
            "text/plain": [
              "plot without title"
            ]
          },
          "metadata": {
            "tags": [],
            "image/png": {
              "width": 420,
              "height": 420
            },
            "text/plain": {
              "width": 420,
              "height": 420
            }
          }
        }
      ]
    },
    {
      "cell_type": "code",
      "metadata": {
        "id": "a_Yu9HfI4QDu",
        "colab_type": "code",
        "colab": {}
      },
      "source": [
        "train_set"
      ],
      "execution_count": null,
      "outputs": []
    },
    {
      "cell_type": "code",
      "metadata": {
        "id": "b4LasO9R3siR",
        "colab_type": "code",
        "colab": {}
      },
      "source": [
        "new_train <- train_set[,-c(1,2,4,7,8,9,13,14,16)]\n",
        "new_test  <- test_set[,-c(1,2,4,7,8,9,13,14,16)]"
      ],
      "execution_count": 16,
      "outputs": []
    },
    {
      "cell_type": "code",
      "metadata": {
        "id": "F8RY4QcQ6l8K",
        "colab_type": "code",
        "colab": {}
      },
      "source": [
        "new_train"
      ],
      "execution_count": null,
      "outputs": []
    },
    {
      "cell_type": "code",
      "metadata": {
        "id": "czZRBX5L58V1",
        "colab_type": "code",
        "colab": {}
      },
      "source": [
        "logistic_regression <- train(form=loan_condition_cat~., data=new_train,method=\"glm\", family=\"binomial\", preProcess = c(\"center\", \"scale\"),trControl=control, tuneLength = 5)"
      ],
      "execution_count": 23,
      "outputs": []
    },
    {
      "cell_type": "code",
      "metadata": {
        "id": "0eBiurKMBnQ4",
        "colab_type": "code",
        "colab": {
          "base_uri": "https://localhost:8080/",
          "height": 85
        },
        "outputId": "7b85503a-7cf0-42d3-ac35-0beb02770775"
      },
      "source": [
        "predlog <- predict(logistic_regression,new_test,type=\"raw\")\n",
        "table(predlog, new_test$loan_condition_cat)"
      ],
      "execution_count": 24,
      "outputs": [
        {
          "output_type": "display_data",
          "data": {
            "text/plain": [
              "       \n",
              "predlog      0      1\n",
              "      0 164105  13353\n",
              "      1     13      4"
            ]
          },
          "metadata": {
            "tags": []
          }
        }
      ]
    },
    {
      "cell_type": "code",
      "metadata": {
        "id": "6-jtB__5Do-Z",
        "colab_type": "code",
        "colab": {}
      },
      "source": [
        "logistic_regression_confusion_matrix<-confusionMatrix(predlog, new_test$loan_condition_cat)\n"
      ],
      "execution_count": 25,
      "outputs": []
    },
    {
      "cell_type": "code",
      "metadata": {
        "id": "HouKHMxyD4nF",
        "colab_type": "code",
        "colab": {
          "base_uri": "https://localhost:8080/",
          "height": 476
        },
        "outputId": "c71f9139-efaf-4aac-c2a2-7e6acc7b0527"
      },
      "source": [
        "logistic_regression_confusion_matrix"
      ],
      "execution_count": 26,
      "outputs": [
        {
          "output_type": "display_data",
          "data": {
            "text/plain": [
              "Confusion Matrix and Statistics\n",
              "\n",
              "          Reference\n",
              "Prediction      0      1\n",
              "         0 164105  13353\n",
              "         1     13      4\n",
              "                                          \n",
              "               Accuracy : 0.9247          \n",
              "                 95% CI : (0.9235, 0.9259)\n",
              "    No Information Rate : 0.9247          \n",
              "    P-Value [Acc > NIR] : 0.5346          \n",
              "                                          \n",
              "                  Kappa : 4e-04           \n",
              "                                          \n",
              " Mcnemar's Test P-Value : <2e-16          \n",
              "                                          \n",
              "            Sensitivity : 0.9999208       \n",
              "            Specificity : 0.0002995       \n",
              "         Pos Pred Value : 0.9247540       \n",
              "         Neg Pred Value : 0.2352941       \n",
              "             Prevalence : 0.9247387       \n",
              "         Detection Rate : 0.9246654       \n",
              "   Detection Prevalence : 0.9999042       \n",
              "      Balanced Accuracy : 0.5001101       \n",
              "                                          \n",
              "       'Positive' Class : 0               \n",
              "                                          "
            ]
          },
          "metadata": {
            "tags": []
          }
        }
      ]
    },
    {
      "cell_type": "code",
      "metadata": {
        "id": "G1Maq4PAOOCT",
        "colab_type": "code",
        "colab": {}
      },
      "source": [
        "svm<- train(form=loan_condition_cat~., data=new_train, method=\"svmLinear\", preProcess = c(\"center\", \"scale\"), trControl=control, tuneLength =5)\n"
      ],
      "execution_count": null,
      "outputs": []
    },
    {
      "cell_type": "code",
      "metadata": {
        "id": "zEm0JKKYGaWm",
        "colab_type": "code",
        "colab": {}
      },
      "source": [
        "xgb.grid <- expand.grid(nrounds = 100,eta=0.3, gamma=0, max_depth=3, min_child_weight=1, subsample=1, colsample_bytree=1)\n"
      ],
      "execution_count": 19,
      "outputs": []
    },
    {
      "cell_type": "code",
      "metadata": {
        "id": "R2mTT-Mw9V-b",
        "colab_type": "code",
        "colab": {}
      },
      "source": [
        "xgb_model <-train(loan_condition_cat~ .,data = new_train, method=\"xgbTree\",trControl=control, tuneGrid=xgb.grid,nthread =4)\n"
      ],
      "execution_count": 20,
      "outputs": []
    },
    {
      "cell_type": "code",
      "metadata": {
        "id": "NG1vbgLrB9Rk",
        "colab_type": "code",
        "colab": {
          "base_uri": "https://localhost:8080/",
          "height": 340
        },
        "outputId": "94d0182e-ffe7-45a3-9782-2c517982935c"
      },
      "source": [
        "xgb_model"
      ],
      "execution_count": 21,
      "outputs": [
        {
          "output_type": "display_data",
          "data": {
            "text/plain": [
              "eXtreme Gradient Boosting \n",
              "\n",
              "709904 samples\n",
              "     7 predictor\n",
              "     2 classes: '0', '1' \n",
              "\n",
              "No pre-processing\n",
              "Resampling: Cross-Validated (10 fold, repeated 3 times) \n",
              "Summary of sample sizes: 638914, 638912, 638914, 638914, 638914, 638913, ... \n",
              "Resampling results:\n",
              "\n",
              "  Accuracy  Kappa    \n",
              "  0.932713  0.2056858\n",
              "\n",
              "Tuning parameter 'nrounds' was held constant at a value of 100\n",
              "Tuning\n",
              " held constant at a value of 1\n",
              "Tuning parameter 'subsample' was held\n",
              " constant at a value of 1"
            ]
          },
          "metadata": {
            "tags": []
          }
        }
      ]
    },
    {
      "cell_type": "code",
      "metadata": {
        "id": "gaBz387pArYt",
        "colab_type": "code",
        "colab": {}
      },
      "source": [
        "predxgb<-predict(xgb_model,new_test,type=\"raw\")\n"
      ],
      "execution_count": 22,
      "outputs": []
    },
    {
      "cell_type": "code",
      "metadata": {
        "id": "9O9yncZxA2tk",
        "colab_type": "code",
        "colab": {}
      },
      "source": [
        "#xgboost_confusion_matrix<-confusionMatrix(predxgb, new_test$loan_condition_cat)\n",
        "xgboost_confusion_matrix <- confusionMatrix(table(predxgb, new_test$loan_condition_cat)) \n"
      ],
      "execution_count": 23,
      "outputs": []
    },
    {
      "cell_type": "code",
      "metadata": {
        "id": "NWNn866CtCtR",
        "colab_type": "code",
        "colab": {
          "base_uri": "https://localhost:8080/",
          "height": 476
        },
        "outputId": "9ad2433e-8111-4652-c37e-de9670ea797f"
      },
      "source": [
        "xgboost_confusion_matrix"
      ],
      "execution_count": 24,
      "outputs": [
        {
          "output_type": "display_data",
          "data": {
            "text/plain": [
              "Confusion Matrix and Statistics\n",
              "\n",
              "       \n",
              "predxgb      0      1\n",
              "      0 164028  11618\n",
              "      1     90   1739\n",
              "                                          \n",
              "               Accuracy : 0.934           \n",
              "                 95% CI : (0.9329, 0.9352)\n",
              "    No Information Rate : 0.9247          \n",
              "    P-Value [Acc > NIR] : < 2.2e-16       \n",
              "                                          \n",
              "                  Kappa : 0.2148          \n",
              "                                          \n",
              " Mcnemar's Test P-Value : < 2.2e-16       \n",
              "                                          \n",
              "            Sensitivity : 0.9995          \n",
              "            Specificity : 0.1302          \n",
              "         Pos Pred Value : 0.9339          \n",
              "         Neg Pred Value : 0.9508          \n",
              "             Prevalence : 0.9247          \n",
              "         Detection Rate : 0.9242          \n",
              "   Detection Prevalence : 0.9897          \n",
              "      Balanced Accuracy : 0.5648          \n",
              "                                          \n",
              "       'Positive' Class : 0               \n",
              "                                          "
            ]
          },
          "metadata": {
            "tags": []
          }
        }
      ]
    }
  ]
}